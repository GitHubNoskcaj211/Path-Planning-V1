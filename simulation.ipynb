{
 "cells": [
  {
   "cell_type": "code",
   "execution_count": 6,
   "metadata": {},
   "outputs": [],
   "source": [
    "from tree import Tree\n",
    "from occupancygrid import OccupancyGrid\n",
    "from simulation import Simulation\n",
    "import matplotlib.pyplot as plt\n",
    "import numpy as np\n",
    "import time\n",
    "from robot import Robot"
   ]
  },
  {
   "cell_type": "code",
   "execution_count": 7,
   "metadata": {},
   "outputs": [
    {
     "ename": "IndexError",
     "evalue": "tuple index out of range",
     "output_type": "error",
     "traceback": [
      "\u001b[1;31m---------------------------------------------------------------------------\u001b[0m",
      "\u001b[1;31mIndexError\u001b[0m                                Traceback (most recent call last)",
      "\u001b[1;32mc:\\Users\\noskc\\Desktop\\Laine Lab\\Path Planning V1\\simulation.ipynb Cell 2'\u001b[0m in \u001b[0;36m<module>\u001b[1;34m\u001b[0m\n\u001b[0;32m      <a href='vscode-notebook-cell:/c%3A/Users/noskc/Desktop/Laine%20Lab/Path%20Planning%20V1/simulation.ipynb#ch0000001?line=1'>2</a>\u001b[0m \u001b[39m# xmin, ymin, xmax, ymax\u001b[39;00m\n\u001b[0;32m      <a href='vscode-notebook-cell:/c%3A/Users/noskc/Desktop/Laine%20Lab/Path%20Planning%20V1/simulation.ipynb#ch0000001?line=2'>3</a>\u001b[0m world_bounds \u001b[39m=\u001b[39m (\u001b[39m0\u001b[39m,\u001b[39m0\u001b[39m,\u001b[39m30\u001b[39m,\u001b[39m30\u001b[39m)\n\u001b[1;32m----> <a href='vscode-notebook-cell:/c%3A/Users/noskc/Desktop/Laine%20Lab/Path%20Planning%20V1/simulation.ipynb#ch0000001?line=3'>4</a>\u001b[0m robot \u001b[39m=\u001b[39m Robot(start)\n\u001b[0;32m      <a href='vscode-notebook-cell:/c%3A/Users/noskc/Desktop/Laine%20Lab/Path%20Planning%20V1/simulation.ipynb#ch0000001?line=4'>5</a>\u001b[0m occupancy_grid \u001b[39m=\u001b[39m OccupancyGrid(world_bounds, robot\u001b[39m.\u001b[39msensing_radius, robot\u001b[39m.\u001b[39msensing_angle)\n\u001b[0;32m      <a href='vscode-notebook-cell:/c%3A/Users/noskc/Desktop/Laine%20Lab/Path%20Planning%20V1/simulation.ipynb#ch0000001?line=5'>6</a>\u001b[0m rrtree \u001b[39m=\u001b[39m Tree(start, \u001b[39m3\u001b[39m, world_bounds, occupancy_grid)\n",
      "File \u001b[1;32mc:\\Users\\noskc\\Desktop\\Laine Lab\\Path Planning V1\\robot.py:9\u001b[0m, in \u001b[0;36mRobot.__init__\u001b[1;34m(self, start)\u001b[0m\n\u001b[0;32m      <a href='file:///c%3A/Users/noskc/Desktop/Laine%20Lab/Path%20Planning%20V1/robot.py?line=7'>8</a>\u001b[0m \u001b[39mdef\u001b[39;00m \u001b[39m__init__\u001b[39m(\u001b[39mself\u001b[39m, start):\n\u001b[1;32m----> <a href='file:///c%3A/Users/noskc/Desktop/Laine%20Lab/Path%20Planning%20V1/robot.py?line=8'>9</a>\u001b[0m     \u001b[39mself\u001b[39m\u001b[39m.\u001b[39mposition \u001b[39m=\u001b[39m TreePoint(start[\u001b[39m0\u001b[39m], start[\u001b[39m1\u001b[39m], start[\u001b[39m2\u001b[39;49m])\n\u001b[0;32m     <a href='file:///c%3A/Users/noskc/Desktop/Laine%20Lab/Path%20Planning%20V1/robot.py?line=10'>11</a>\u001b[0m     \u001b[39mself\u001b[39m\u001b[39m.\u001b[39mmax_turning_speed \u001b[39m=\u001b[39m \u001b[39m0.3\u001b[39m\n\u001b[0;32m     <a href='file:///c%3A/Users/noskc/Desktop/Laine%20Lab/Path%20Planning%20V1/robot.py?line=11'>12</a>\u001b[0m     \u001b[39mself\u001b[39m\u001b[39m.\u001b[39mmax_movement_speed \u001b[39m=\u001b[39m \u001b[39m0.5\u001b[39m\n",
      "\u001b[1;31mIndexError\u001b[0m: tuple index out of range"
     ]
    }
   ],
   "source": [
    "start = (0,0,0)\n",
    "# xmin, ymin, xmax, ymax\n",
    "world_bounds = (0,0,30,30)\n",
    "robot = Robot(start)\n",
    "occupancy = OccupancyGrid(world_bounds, robot.sensing_radius, robot.sensing_angle)\n",
    "rrtree = Tree((robot.position.x, robot.position.y), 3, world_bounds, occupancy)\n",
    "\n",
    "rrtree.build_tree(1000)\n",
    "\n",
    "fig, ax = plt.subplots()\n",
    "fig.set_figwidth(8)\n",
    "fig.set_figheight(8)\n",
    "\n",
    "rrtree.display(ax)\n",
    "\n",
    "fig.show()"
   ]
  },
  {
   "cell_type": "code",
   "execution_count": 2,
   "metadata": {},
   "outputs": [
    {
     "ename": "NameError",
     "evalue": "name 'Simulation' is not defined",
     "output_type": "error",
     "traceback": [
      "\u001b[1;31m---------------------------------------------------------------------------\u001b[0m",
      "\u001b[1;31mNameError\u001b[0m                                 Traceback (most recent call last)",
      "\u001b[1;32mc:\\Users\\noskc\\Desktop\\Laine Lab\\Path Planning V1\\simulation.ipynb Cell 3'\u001b[0m in \u001b[0;36m<module>\u001b[1;34m\u001b[0m\n\u001b[0;32m      <a href='vscode-notebook-cell:/c%3A/Users/noskc/Desktop/Laine%20Lab/Path%20Planning%20V1/simulation.ipynb#ch0000002?line=2'>3</a>\u001b[0m \u001b[39m# xmin, ymin, xmax, ymax\u001b[39;00m\n\u001b[0;32m      <a href='vscode-notebook-cell:/c%3A/Users/noskc/Desktop/Laine%20Lab/Path%20Planning%20V1/simulation.ipynb#ch0000002?line=3'>4</a>\u001b[0m world_bounds \u001b[39m=\u001b[39m (\u001b[39m0\u001b[39m,\u001b[39m0\u001b[39m,\u001b[39m10\u001b[39m,\u001b[39m10\u001b[39m)\n\u001b[1;32m----> <a href='vscode-notebook-cell:/c%3A/Users/noskc/Desktop/Laine%20Lab/Path%20Planning%20V1/simulation.ipynb#ch0000002?line=4'>5</a>\u001b[0m sim \u001b[39m=\u001b[39m Simulation(start, goal, world_bounds)\n\u001b[0;32m      <a href='vscode-notebook-cell:/c%3A/Users/noskc/Desktop/Laine%20Lab/Path%20Planning%20V1/simulation.ipynb#ch0000002?line=5'>6</a>\u001b[0m sim\u001b[39m.\u001b[39mbuild_initial_rrt()\n\u001b[0;32m      <a href='vscode-notebook-cell:/c%3A/Users/noskc/Desktop/Laine%20Lab/Path%20Planning%20V1/simulation.ipynb#ch0000002?line=6'>7</a>\u001b[0m \u001b[39mfor\u001b[39;00m i \u001b[39min\u001b[39;00m sim\u001b[39m.\u001b[39mpath:\n",
      "\u001b[1;31mNameError\u001b[0m: name 'Simulation' is not defined"
     ]
    }
   ],
   "source": [
    "start = (0,0,0)\n",
    "goal = (10,10)\n",
    "# xmin, ymin, xmax, ymax\n",
    "world_bounds = (0,0,10,10)\n",
    "sim = Simulation(start, goal, world_bounds)\n",
    "sim.build_initial_rrt()\n",
    "for i in sim.path:\n",
    "    print(i)\n",
    "sim.display()\n",
    "\n",
    "while not sim.step():\n",
    "    sim.display()\n",
    "    \n",
    "sim.display()\n",
    "\n",
    "input()"
   ]
  },
  {
   "cell_type": "code",
   "execution_count": null,
   "metadata": {},
   "outputs": [],
   "source": []
  },
  {
   "cell_type": "code",
   "execution_count": null,
   "metadata": {},
   "outputs": [],
   "source": []
  }
 ],
 "metadata": {
  "interpreter": {
   "hash": "2db524e06e9f5f4ffedc911c917cb75e12dbc923643829bf417064a77eb14d37"
  },
  "kernelspec": {
   "display_name": "Python 3.8.3 32-bit",
   "language": "python",
   "name": "python3"
  },
  "language_info": {
   "codemirror_mode": {
    "name": "ipython",
    "version": 3
   },
   "file_extension": ".py",
   "mimetype": "text/x-python",
   "name": "python",
   "nbconvert_exporter": "python",
   "pygments_lexer": "ipython3",
   "version": "3.8.3"
  },
  "orig_nbformat": 4
 },
 "nbformat": 4,
 "nbformat_minor": 2
}
